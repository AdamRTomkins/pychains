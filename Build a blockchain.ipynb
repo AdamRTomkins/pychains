{
 "cells": [
  {
   "cell_type": "markdown",
   "metadata": {},
   "source": [
    "# A python 2.7 Blockcahin\n",
    "Based on https://hackernoon.com/learn-blockchains-by-building-one-117428612f46"
   ]
  },
  {
   "cell_type": "markdown",
   "metadata": {},
   "source": [
    "First we have to represent the blockchain"
   ]
  },
  {
   "cell_type": "code",
   "execution_count": 3,
   "metadata": {},
   "outputs": [],
   "source": [
    "class Blockchain(object):\n",
    "    def __init__(self):\n",
    "        self.chain = []\n",
    "        self.current_transactions = []\n",
    "        \n",
    "    def new_block(self):\n",
    "        # create a new block and add it to the chain\n",
    "        pass\n",
    "        \n",
    "    def new_transaction(self):\n",
    "        # add a new transaction to the list of transactions\n",
    "        pass\n",
    "    \n",
    "    @staticmethod\n",
    "    def hash(block):\n",
    "        # hash a block\n",
    "        pass\n",
    "    \n",
    "    @property\n",
    "    def last_block(self):\n",
    "        # return the last block in the chain\n",
    "        pass\n",
    "    \n",
    "    "
   ]
  },
  {
   "cell_type": "markdown",
   "metadata": {},
   "source": [
    "# What will a block look like?\n",
    "It will have an index, a timestamp, a list of transactions, a proof and a hash of the previous block. This hash is what make its a blockchain.\n"
   ]
  },
  {
   "cell_type": "code",
   "execution_count": 6,
   "metadata": {},
   "outputs": [],
   "source": [
    "block = {\n",
    "    'index' : 1,\n",
    "    'timestamp' :  1506057125.900785,\n",
    "    'transactions': [\n",
    "        {\n",
    "            'sender': \"8527147fe1f5426f9dd545de4b27ee00\",\n",
    "            'recipient': \"a77f5cdfa2934df3954a5c7c7da5df1f\",\n",
    "            'amount': 5,\n",
    "        }\n",
    "    ],\n",
    "    'proof': 324984774000,\n",
    "    'previous_hash': \"2cf24dba5fb0a30e26e83b2ac5b9e29e1b161e5c1fa7425e73043362938b9824\"\n",
    "}"
   ]
  },
  {
   "cell_type": "markdown",
   "metadata": {},
   "source": [
    "Lets add how to make a new transaction first"
   ]
  },
  {
   "cell_type": "code",
   "execution_count": 8,
   "metadata": {},
   "outputs": [],
   "source": [
    "class Blockchain(object):\n",
    "    #...\n",
    "    \n",
    "    def new_transaction(self,sender,recipient,amount):\n",
    "        \"\"\"\n",
    "        Create a new transaction to go into the next mined block.\n",
    "        \n",
    "        :param sender: <str> Address of the sender\n",
    "        :param recipient: <str> Address of the recipient\n",
    "        :param amount <int> Amount to send\n",
    "        :return <int> The index of the Block  that will hold this transaction\n",
    "        \"\"\"\n",
    "        \n",
    "        self.current_transactions.append(\n",
    "            {   'sender': sender,\n",
    "                'recipient' : recipient,\n",
    "                'amount': amount\n",
    "            }\n",
    "        )\n",
    "        \n",
    "        return self.last_block['index'] + 1\n",
    "    \n",
    "    "
   ]
  },
  {
   "cell_type": "markdown",
   "metadata": {},
   "source": [
    "Creating a new Block, and the Genisis block"
   ]
  },
  {
   "cell_type": "code",
   "execution_count": 9,
   "metadata": {},
   "outputs": [],
   "source": [
    "import hashlib\n",
    "import json\n",
    "from time import time\n",
    "\n",
    "\n"
   ]
  },
  {
   "cell_type": "code",
   "execution_count": 3,
   "metadata": {},
   "outputs": [],
   "source": [
    "class Blockchain(object):\n",
    "    def __init__(self):\n",
    "        self.current_transactions = []\n",
    "        self.chain = []\n",
    "        \n",
    "        # Create the genisis block\n",
    "        self.new_block(previous_hash=1,proof=100)\n",
    "        \n",
    "    def new_block(self, proof, previous_hash=None):\n",
    "        \"\"\"\n",
    "        Create a new block for the block chain\n",
    "        \n",
    "        :param proof <int> The proof given by the Proof of Work algorithm\n",
    "        :param previous_hash: (Optional) <str> Hash of the previous Block\n",
    "        :return <dict> New Block        \n",
    "        \"\"\"\n",
    "        \n",
    "        block = {\n",
    "            'index' : len(self.chain) + 1,\n",
    "            'timestamp' :  time(),\n",
    "            'transactions': self.current_transactions,\n",
    "            'proof': proof,\n",
    "            'previous_hash': previous_hash or self.hash(self.chain[-1])\n",
    "        }\n",
    "        \n",
    "        # reset the current list of transactions\n",
    "        self.current_transaction = []\n",
    "        \n",
    "        self.chain.append(block)\n",
    "        return block\n",
    "        \n",
    "    def new_transaction(self,sender,recipient,amount):\n",
    "        \"\"\"\n",
    "        Create a new transaction to go into the next mined block.\n",
    "        \n",
    "        :param sender: <str> Address of the sender\n",
    "        :param recipient: <str> Address of the recipient\n",
    "        :param amount <int> Amount to send\n",
    "        :return <int> The index of the Block  that will hold this transaction\n",
    "        \"\"\"\n",
    "        \n",
    "        self.current_transactions.append(\n",
    "            {   'sender': sender,\n",
    "                'recipient' : recipient,\n",
    "                'amount': amount\n",
    "            }\n",
    "        )\n",
    "        \n",
    "        return self.last_block['index'] + 1\n",
    "    \n",
    "    @property\n",
    "    def last_block(self):\n",
    "        return self.chain[-1]\n",
    "    \n",
    "    @staticmethod\n",
    "    def hash(block):\n",
    "        \"\"\"\n",
    "        Create a SHA-256 hash of a Block\n",
    "        \n",
    "        :param block: <dict> Block\n",
    "        :return <str>\n",
    "        \"\"\"\n",
    "        block_string = json.dumps(block, sort_keys=True).encode()\n",
    "        return hashlib.sha256(block_string).hexdigest()\n",
    "    \n",
    "    \n",
    "    "
   ]
  },
  {
   "cell_type": "markdown",
   "metadata": {},
   "source": [
    "# Implementing Proof of work"
   ]
  },
  {
   "cell_type": "code",
   "execution_count": 11,
   "metadata": {},
   "outputs": [],
   "source": [
    "\n",
    "import hashlib\n",
    "import json\n",
    "\n",
    "from time import time\n",
    "from uuid import uuid4\n",
    "\n",
    "class Blockchain(object):\n",
    "    # ... \n",
    "    \n",
    "    def proof_of_work(self, last_proof):\n",
    "        \"\"\"\n",
    "        Simple Proof of Work Algorithm\n",
    "        - Find a number p' such that hash(pp') contains 4 leading zeros, where p is the previous block's p \n",
    "        - p is the previous proof, and p' is the new proof\n",
    "        \n",
    "        :param last_proof: <int>\n",
    "        :return <int>\n",
    "        \"\"\"\n",
    "        \n",
    "        proof = 0\n",
    "        while self.valid_proof(last_proof,proof) is False:\n",
    "            proof += 1\n",
    "            \n",
    "        return proof\n",
    "    \n",
    "    @staticmethod\n",
    "    def valid_proof(last_proof, proof):\n",
    "        \"\"\"\n",
    "        Validate the proof, does hash(last_proof,proof) contain 4 leading zeros?\n",
    "        \n",
    "        :param last_proof: <int> Previous Proof\n",
    "        :param proof: <int> Current proof\n",
    "        :return <bool> True if correct, False if not.\n",
    "        \"\"\"\n",
    "        \n",
    "        guess = f'{last_proof}{proof}'.encode()\n",
    "        guess_hash = hashlib.sha256(guess).hexdigest()\n",
    "        return guess_hash[:4] == \"0000\"\n"
   ]
  },
  {
   "cell_type": "markdown",
   "metadata": {},
   "source": [
    "Create a quick test harness"
   ]
  },
  {
   "cell_type": "code",
   "execution_count": null,
   "metadata": {},
   "outputs": [],
   "source": [
    "if __name__ == __main__:\n",
    "    sender = hashlib.sha256('me')\n",
    "    recipient = hashlib.sha256('you')\n",
    "    amount = 1\n",
    "\n",
    "    chain =  Blockchain()\n",
    "    chain.new_transactions(sender,recipient,amount)\n",
    "\n",
    "    print chain.current_transactions\n",
    "    print chain.blocks"
   ]
  },
  {
   "cell_type": "markdown",
   "metadata": {},
   "source": [
    "# Create a Webapp"
   ]
  },
  {
   "cell_type": "code",
   "execution_count": 5,
   "metadata": {},
   "outputs": [
    {
     "name": "stderr",
     "output_type": "stream",
     "text": [
      " * Running on http://0.0.0.0:5123/ (Press CTRL+C to quit)\n"
     ]
    }
   ],
   "source": [
    "import hashlib\n",
    "import json\n",
    "from textwrap import dedent\n",
    "from time import time\n",
    "from uuid import uuid4\n",
    "\n",
    "from flask import Flask\n",
    "\n",
    "\n",
    "#class Blockchain(object):\n",
    "#    ...\n",
    "\n",
    "\n",
    "# Instantiate our Node\n",
    "app = Flask(__name__)\n",
    "\n",
    "# Generate a globally unique address for this node\n",
    "node_identifier = str(uuid4()).replace('-', '')\n",
    "\n",
    "# Instantiate the Blockchain\n",
    "blockchain = Blockchain()\n",
    "\n",
    "\n",
    "@app.route('/mine', methods=['GET'])\n",
    "def mine():\n",
    "    return \"We'll mine a new Block\"\n",
    "  \n",
    "@app.route('/transactions/new', methods=['POST'])\n",
    "def new_transaction():\n",
    "    return \"We'll add a new transaction\"\n",
    "\n",
    "@app.route('/chain', methods=['GET'])\n",
    "def full_chain():\n",
    "    response = {\n",
    "        'chain': blockchain.chain,\n",
    "        'length': len(blockchain.chain),\n",
    "    }\n",
    "    return jsonify(response), 200\n",
    "\n",
    "if __name__ == '__main__':\n",
    "    app.run(host='0.0.0.0', port=5123)"
   ]
  },
  {
   "cell_type": "markdown",
   "metadata": {},
   "source": [
    "# The Transactions Endpoint:\n",
    "\n",
    "{\n",
    " \"sender\": \"my address\",\n",
    " \"recipient\": \"someone else's address\",\n",
    " \"amount\": 5\n",
    "}"
   ]
  },
  {
   "cell_type": "code",
   "execution_count": null,
   "metadata": {},
   "outputs": [],
   "source": [
    "\n",
    "import hashlib\n",
    "import json\n",
    "from textwrap import dedent\n",
    "from time import time\n",
    "from uuid import uuid4\n",
    "\n",
    "from flask import Flask, jsonify, request\n",
    "\n",
    "...\n",
    "\n",
    "@app.route('/transactions/new', methods=['POST'])\n",
    "def new_transaction():\n",
    "    values = request.get_json()\n",
    "    \n",
    "    # validate the required fields are in the json\n",
    "    required = ['sender','recipient','amount']\n",
    "    if not all(k in values for k in required):\n",
    "        return 'Missing values in transaction', 400\n",
    "    \n",
    "    # Create a new transaction\n",
    "    index = blockchain.new_transaction(values['sender'],values['recipient'],values['amount'])\n",
    "    response = {'message': 'Transaction will be added to Block %s' % index}\n",
    "    return jsonify(response), 201\n",
    "\n",
    "\n"
   ]
  },
  {
   "cell_type": "code",
   "execution_count": 6,
   "metadata": {},
   "outputs": [],
   "source": [
    "# The mining enspoint"
   ]
  },
  {
   "cell_type": "code",
   "execution_count": null,
   "metadata": {},
   "outputs": [],
   "source": [
    "# ...\n",
    "\n",
    "@app.route('/mine', methods=['GET'])\n",
    "def mine()\n",
    "    # Run the proof of work algorithm to get the next proof\n",
    "    last_block = blockchain.last_block\n",
    "    last_proof = last_block['proof']\n",
    "    proof = blockchain.proof_of_work(last_proof)\n",
    "    \n",
    "    # We must receive a reward for finding the proof.\n",
    "    # The sender is \"0\" to signify that this node has mined a new coin.\n",
    "    blockchain.new_transaction(\n",
    "        sender=\"0\",\n",
    "        recipient=node_identifier,\n",
    "        amount=1,\n",
    "    )\n",
    "    \n",
    "    # Forge the new block\n",
    "    previous_hash = blockchain.hash(last_block)\n",
    "    block = blockchain.new_block(proof,previous_hash)\n",
    "    \n",
    "    response = {\n",
    "        'messge': \"New Block Forged\",\n",
    "        'index': block['index'],\n",
    "        'transactions': block['transactions'],\n",
    "        'proof': block['proof'],\n",
    "        'previous_hash': block['previous_hash'],\n",
    "        \n",
    "    }\n",
    "    \n",
    "     return jsonify(response), 200"
   ]
  },
  {
   "cell_type": "markdown",
   "metadata": {},
   "source": [
    "# Interacting with your blockchain using CURL"
   ]
  },
  {
   "cell_type": "raw",
   "metadata": {},
   "source": [
    "curl -X POST -H \"Content-Type: application/json\" -d '{\n",
    " \"sender\": \"d4ee26eee15148ee92c6cd394edd974e\",\n",
    " \"recipient\": \"someone-other-address\",\n",
    " \"amount\": 5\n",
    "}' \"http://localhost:5123/transactions/new\""
   ]
  },
  {
   "cell_type": "raw",
   "metadata": {},
   "source": [
    "curl http://localhost:5123/chain"
   ]
  },
  {
   "cell_type": "markdown",
   "metadata": {},
   "source": [
    "# Adding Consensus Algorithms!"
   ]
  },
  {
   "cell_type": "markdown",
   "metadata": {},
   "source": [
    "## Registering New nodes"
   ]
  },
  {
   "cell_type": "code",
   "execution_count": null,
   "metadata": {},
   "outputs": [],
   "source": [
    "#...\n",
    "from urllib.parse import urlparse\n",
    "#...\n",
    "\n",
    "\n",
    "class Blockchain(object):\n",
    "    def __init__(self):\n",
    "        #...\n",
    "        # Store your neighbours\n",
    "        self.nodes = set()\n",
    "        #...\n",
    "    \n",
    "    def register_node(self, address):\n",
    "        \"\"\"\n",
    "        Add a new node to the list of neighbours\n",
    "        \n",
    "        :param address: <str> Address of node. Eg. 'http://192.168.0.5:5000'\n",
    "        :return: None\n",
    "        \"\"\"\n",
    "        \n",
    "        parsed_url = urlparse(address)\n",
    "        self.nodes.add(parsed_url.netloc)"
   ]
  },
  {
   "cell_type": "markdown",
   "metadata": {},
   "source": [
    "## Implementing the Consensus Algorithm"
   ]
  },
  {
   "cell_type": "code",
   "execution_count": 12,
   "metadata": {},
   "outputs": [],
   "source": [
    "#...\n",
    "import requests\n",
    "\n",
    "\n",
    "class Blockchain(object):\n",
    "    #...\n",
    "    \n",
    "    def valid_chain(self, chain):\n",
    "        \"\"\"\n",
    "        Determine if a given blockchain is valid\n",
    "        \n",
    "        :param chain: <list> A blockchain\n",
    "        :return: <bool> True if valid, False if not\n",
    "        \"\"\"\n",
    "        \n",
    "        # start at the firs block\n",
    "        last_block = chain[0]\n",
    "        current_index = 1\n",
    "        \n",
    "        while current_index < len(chain):\n",
    "            block = chain[current_index]\n",
    "            \n",
    "            # Check the previous hash is correcct\n",
    "            if block['previous_hash'] != self.hash(last_block):\n",
    "                return False\n",
    "            \n",
    "            if not self.valid_proof(last_block['proof'],block['proof']):\n",
    "                return False\n",
    "            \n",
    "            last_block = block\n",
    "            current_index += 1\n",
    "\n",
    "        return True\n",
    "    \n",
    "    def resolve_conflicts(self):\n",
    "        \"\"\"\n",
    "        This is our Consensus Algorithm, it resolves conflicts\n",
    "        by replacing our chain with the longest one in the network.\n",
    "        \n",
    "        :return: <bool> True if our chain was replaced, False if not\n",
    "        \"\"\"\n",
    "        \n",
    "        neighbours = self.nodes\n",
    "        new_chain = None\n",
    "\n",
    "        # We're only looking for chains longer than ours\n",
    "        max_length = len(self.chain)\n",
    "\n",
    "        # Grab and verify the chains from all the nodes in our network\n",
    "        for node in neighbours:\n",
    "            response = requests.get(\"http://{%s}/chain\" % node )\n",
    "\n",
    "            if response.status_code == 200:\n",
    "                length = response.json()['length']\n",
    "                chain = response.json()['chain']\n",
    "\n",
    "                # Check if the length is longer and the chain is valid\n",
    "                if length > max_length and self.valid_chain(chain):\n",
    "                    max_length = length\n",
    "                    new_chain = chain\n",
    "\n",
    "        # Replace our chain if we discovered a new, valid chain longer than ours\n",
    "        if new_chain:\n",
    "            self.chain = new_chain\n",
    "            return True\n",
    "\n",
    "        return False\n",
    "            \n",
    "            "
   ]
  },
  {
   "cell_type": "markdown",
   "metadata": {},
   "source": [
    "# Add consensus routes"
   ]
  },
  {
   "cell_type": "code",
   "execution_count": null,
   "metadata": {},
   "outputs": [],
   "source": [
    "@app.route('/nodes/register',methods =['POST'])\n",
    "def register_nodes()\n",
    "    values = request.get_json()\n",
    "    \n",
    "    nodes = values.get('nodes')\n",
    "    if nodes is None:\n",
    "        return \"Error: Please supply a valid list of nodes\",400\n",
    "    \n",
    "    for node in nodes:\n",
    "        blockchain.register_node(node)\n",
    "        \n",
    "    response = {\n",
    "        'message': 'New nodes have been added',\n",
    "        'total_nodes': list(blockchain.nodes),\n",
    "    }\n",
    "    return jsonify(response), 201\n",
    "\n",
    "\n",
    "@app.route('/nodes/resolve', methods=['GET'])\n",
    "def consensus():\n",
    "    replaced = blockchain.resolve_conflicts()\n",
    "\n",
    "    if replaced:\n",
    "        response = {\n",
    "            'message': 'Our chain was replaced',\n",
    "            'new_chain': blockchain.chain\n",
    "        }\n",
    "    else:\n",
    "        response = {\n",
    "            'message': 'Our chain is authoritative',\n",
    "            'chain': blockchain.chain\n",
    "        }\n",
    "\n",
    "    return jsonify(response), 200"
   ]
  }
 ],
 "metadata": {
  "kernelspec": {
   "display_name": "Python 2",
   "language": "python",
   "name": "python2"
  },
  "language_info": {
   "codemirror_mode": {
    "name": "ipython",
    "version": 2
   },
   "file_extension": ".py",
   "mimetype": "text/x-python",
   "name": "python",
   "nbconvert_exporter": "python",
   "pygments_lexer": "ipython2",
   "version": "2.7.13"
  }
 },
 "nbformat": 4,
 "nbformat_minor": 2
}
